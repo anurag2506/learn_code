{
 "cells": [
  {
   "cell_type": "markdown",
   "id": "94350893",
   "metadata": {},
   "source": [
    "Implement a simple Library Management System using OOP concepts.\n",
    "\n",
    "Requirements:\n",
    "\n",
    "Create a base class Book with attributes:\n",
    "\n",
    "title, author, isbn, available_copies.\n",
    "\n",
    "Create a class Library that manages books:\n",
    "\n",
    "add_book(book) → adds a book.\n",
    "\n",
    "borrow_book(isbn) → reduces available copies if possible.\n",
    "\n",
    "return_book(isbn) → increases available copies.\n",
    "\n",
    "search(title/author) → finds books by title or author.\n",
    "\n",
    "Create a class Member:\n",
    "\n",
    "attributes: name, member_id, borrowed_books.\n",
    "\n",
    "methods: borrow(library, isbn) and return_book(library, isbn).\n",
    "\n",
    "👉 Challenge yourself to handle edge cases like: borrowing unavailable books, returning books not borrowed, and duplicate entries."
   ]
  },
  {
   "cell_type": "code",
   "execution_count": 1,
   "id": "f0eaba77",
   "metadata": {},
   "outputs": [],
   "source": [
    "class Book:\n",
    "    def __init__(self,title,author,isbn,available_copies):\n",
    "        self.title = title\n",
    "        self.isbn = isbn\n",
    "        self.author = author\n",
    "        self.copies = available_copies\n",
    "    "
   ]
  },
  {
   "cell_type": "code",
   "execution_count": null,
   "id": "38bc9416",
   "metadata": {},
   "outputs": [],
   "source": [
    "class Library(Book):\n",
    "    def __init__(self, title, author, isbn, available_copies):\n",
    "        super().__init__(title, author, isbn, available_copies)\n",
    "    \n",
    "    def add_book(book:Book):\n",
    "        "
   ]
  }
 ],
 "metadata": {
  "kernelspec": {
   "display_name": "dl_proj",
   "language": "python",
   "name": "python3"
  },
  "language_info": {
   "codemirror_mode": {
    "name": "ipython",
    "version": 3
   },
   "file_extension": ".py",
   "mimetype": "text/x-python",
   "name": "python",
   "nbconvert_exporter": "python",
   "pygments_lexer": "ipython3",
   "version": "3.12.2"
  }
 },
 "nbformat": 4,
 "nbformat_minor": 5
}
