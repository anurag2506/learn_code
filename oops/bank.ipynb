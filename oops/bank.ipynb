{
 "cells": [
  {
   "cell_type": "code",
   "execution_count": 2,
   "id": "5cafc308",
   "metadata": {},
   "outputs": [],
   "source": [
    "import time\n",
    "import datetime as dt"
   ]
  },
  {
   "cell_type": "markdown",
   "id": "a3af0757",
   "metadata": {},
   "source": [
    "Problem 2: Banking System with Multiple Account Types\n",
    "\n",
    "Simulate a Banking System using inheritance and polymorphism.\n",
    "\n",
    "Requirements:\n",
    "\n",
    "Create a base class Account:\n",
    "\n",
    "attributes: account_number, balance.\n",
    "\n",
    "methods: deposit(amount), withdraw(amount) (abstract).\n",
    "\n",
    "Create two subclasses:\n",
    "\n",
    "SavingsAccount: has an interest rate, apply interest after deposits.\n",
    "\n",
    "CurrentAccount: allows overdraft up to a limit.\n",
    "\n",
    "Create a Bank class:\n",
    "\n",
    "manages multiple accounts in a dictionary {account_number: account}.\n",
    "\n",
    "create_account(type, account_number, balance, **kwargs) → creates either savings/current.\n",
    "\n",
    "transfer(from_account, to_account, amount) → move money between accounts.\n",
    "\n",
    "👉 Challenge: Enforce rules like overdraft limit in current account, applying monthly interest in savings, and preventing invalid transfers."
   ]
  },
  {
   "cell_type": "code",
   "execution_count": 41,
   "id": "7266ea15",
   "metadata": {},
   "outputs": [],
   "source": [
    "class Account:\n",
    "    def __init__(self,acc_num,balance):\n",
    "        self.acc_num = acc_num\n",
    "        self.balance = balance\n",
    "        \n",
    "    def deposit(self, amount, account):\n",
    "        self.balance += amount\n",
    "        print(f\"Successfully deposited\")\n",
    "        \n",
    "    def withdraw(self, amount, account):\n",
    "        if self.acc_num != account:\n",
    "            return f\"provided account number is not valid\"\n",
    "    \n",
    "        self.balance -= amount\n",
    "        return(f\"Money successfully withdrawn\")\n",
    "    "
   ]
  },
  {
   "cell_type": "code",
   "execution_count": 30,
   "id": "7caf5d16",
   "metadata": {},
   "outputs": [],
   "source": [
    "class SavingsAccount(Account):\n",
    "    def __init__(self, acc_num, balance, interest_rate, year,month,day):\n",
    "        super().__init__(acc_num, balance)\n",
    "        self.rate = interest_rate\n",
    "        self.today = dt.date(year,month,day)\n",
    "        self.validity = True\n",
    "    \n",
    "    def current_balance(self, curr_year, curr_month, curr_day):\n",
    "        if self.validity:\n",
    "            curr_date = dt.date(curr_year,curr_month,curr_day)    \n",
    "            days = (curr_date-self.today).days\n",
    "            curr_balance = self.balance\n",
    "            while days >= 30:\n",
    "                curr_balance += (self.rate* curr_balance*0.01) # Rate is in integers\n",
    "                days -= 30\n",
    "            self.balance = curr_balance\n",
    "        \n",
    "        return self.balance\n",
    "    \n",
    "    def break_savings_acc(self,amount):\n",
    "        self.validity = False\n",
    "        self.balance -= amount\n",
    "        print(f\"Your savings account has been broken\")"
   ]
  },
  {
   "cell_type": "code",
   "execution_count": 31,
   "id": "45f4402a",
   "metadata": {},
   "outputs": [
    {
     "name": "stdout",
     "output_type": "stream",
     "text": [
      "1157.625\n"
     ]
    }
   ],
   "source": [
    "s = SavingsAccount(\"123\",1000,5,2025,6,25)\n",
    "print(s.current_balance(2025,9,25))"
   ]
  },
  {
   "cell_type": "code",
   "execution_count": 65,
   "id": "e61d7fc4",
   "metadata": {},
   "outputs": [],
   "source": [
    "class CurrentAccount(Account):\n",
    "    def __init__(self, acc_num, balance, overdraft,interest):\n",
    "        super().__init__(acc_num, balance)\n",
    "        self.limit = overdraft\n",
    "        self.rate_per_day = interest\n",
    "        self.overdrawn_date = None\n",
    "        self.overdrawn_amt = None\n",
    "        \n",
    "    def withdraw_(self, amount, account):\n",
    "        if amount<= self.balance: # Testcase-1\n",
    "            print(f\"SUCCESS: Amount can be paid using balance\")\n",
    "            return -1\n",
    "        if account!= self.acc_num or amount-self.balance > self.limit: \n",
    "            print(\"FAILURE: You are exceeding the overdraft\")\n",
    "            return -1\n",
    "\n",
    "        # Testcase-2 \n",
    "        self.overdrawn_date = dt.date.today()\n",
    "        self.overdrawn_amt = (amount - self.balance)\n",
    "        print(f\"SUCCESS: Transaction made with excess {amount-self.balance}\")\n",
    "        self.balance = max(0,self.balance-amount) # Accounts for testcases 1,2 \n",
    "        return self.balance\n",
    "    \n",
    "    def deposit(self,amount, curr_year, curr_month, curr_day):\n",
    "        today = dt.date(curr_year,curr_month,curr_day)\n",
    "        days = (today - self.overdrawn_date).days() # Getting the total payable interest for the excess withdrawn \n",
    "        interest_amt = self.rate_per_day*days*0.01\n",
    "        self.balance += (amount- interest_amt-self.overdrawn_amt) # Calculating the effective balance after deposition\n"
   ]
  },
  {
   "cell_type": "code",
   "execution_count": 63,
   "id": "00d26442",
   "metadata": {},
   "outputs": [
    {
     "name": "stdout",
     "output_type": "stream",
     "text": [
      "SUCCESS: Transaction made with excess 500\n"
     ]
    }
   ],
   "source": [
    "c = CurrentAccount(\"123\",1000,2000,5)\n",
    "withdrawn = c.withdraw_(1500,\"123\")"
   ]
  },
  {
   "cell_type": "markdown",
   "id": "4d734896",
   "metadata": {},
   "source": [
    "Create a Bank class:\n",
    "\n",
    "- manages multiple accounts in a dictionary {account_number: account}.\n",
    "- create_account(type, account_number, balance, **kwargs) → creates either savings/current.\n",
    "- transfer(from_account, to_account, amount) → move money between accounts."
   ]
  },
  {
   "cell_type": "code",
   "execution_count": 92,
   "id": "33ccb5a1",
   "metadata": {},
   "outputs": [],
   "source": [
    "class Bank:\n",
    "    def __init__(self):\n",
    "        self.accounts = []\n",
    "    \n",
    "    def create_account(self,account_num,acc_type):\n",
    "        acc = Account(account_num,0)\n",
    "        if acc in self.accounts:\n",
    "            print(f\"Account already present with balance : {acc.balance}\")\n",
    "        if acc_type == \"Savings\":\n",
    "            self.accounts.append({acc.acc_num:\"Savings\"})\n",
    "            print(f\"Created savings account:{acc.acc_num}\")\n",
    "        if acc_type == \"Current\":\n",
    "            self.accounts.append({acc.acc_num:\"Current\"})\n",
    "            print(f\"Created Current account:{acc.acc_num}\")\n",
    "\n",
    "    \n",
    "    def transfer(self, from_:Account, to_, amount):\n",
    "        if (from_ not in self.accounts) or (to_ not in self.accounts):\n",
    "            print(\"FAILURE: Accounts not present\")\n",
    "        from_.balance -= amount\n",
    "        to_.balance += amount\n",
    "        \n",
    "        print(f\"SUCCESS! {from_} has sent {amount} to {to_}\")\n",
    "    \n",
    "    def get_accounts_list(self):\n",
    "        return self.accounts\n"
   ]
  },
  {
   "cell_type": "code",
   "execution_count": null,
   "id": "fb9abaab",
   "metadata": {},
   "outputs": [],
   "source": [
    "'./oops'"
   ]
  },
  {
   "cell_type": "code",
   "execution_count": 93,
   "id": "7fc2bd23",
   "metadata": {},
   "outputs": [
    {
     "name": "stdout",
     "output_type": "stream",
     "text": [
      "Created savings account:123\n",
      "Created Current account:234\n"
     ]
    }
   ],
   "source": [
    "b = Bank()\n",
    "b.create_account(\"123\",\"Savings\")\n",
    "b.create_account(\"234\",\"Current\")\n"
   ]
  },
  {
   "cell_type": "code",
   "execution_count": 94,
   "id": "e1536440",
   "metadata": {},
   "outputs": [
    {
     "data": {
      "text/plain": [
       "[{'123': 'Savings'}, {'234': 'Current'}]"
      ]
     },
     "execution_count": 94,
     "metadata": {},
     "output_type": "execute_result"
    }
   ],
   "source": [
    "b.get_accounts_list()"
   ]
  },
  {
   "cell_type": "code",
   "execution_count": null,
   "id": "439e82bb",
   "metadata": {},
   "outputs": [],
   "source": []
  }
 ],
 "metadata": {
  "kernelspec": {
   "display_name": "dl_proj",
   "language": "python",
   "name": "python3"
  },
  "language_info": {
   "codemirror_mode": {
    "name": "ipython",
    "version": 3
   },
   "file_extension": ".py",
   "mimetype": "text/x-python",
   "name": "python",
   "nbconvert_exporter": "python",
   "pygments_lexer": "ipython3",
   "version": "3.12.2"
  }
 },
 "nbformat": 4,
 "nbformat_minor": 5
}
