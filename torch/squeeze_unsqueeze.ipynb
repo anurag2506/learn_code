{
 "cells": [
  {
   "cell_type": "markdown",
   "metadata": {},
   "source": [
    "Create a 2D tensor of shape (4, 5) filled with random numbers in [-1, 1] on GPU if available, else CPU. Then: <br>\n",
    "– Print its shape, mean, std, min, max.<br>\n",
    "– Reshape it to (2, 10), then back to (4, 5).<br>\n",
    "– Add a new dimension at axis 1 (so shape becomes (4, 1, 5)), then remove it back.<br>\n",
    "– Move it to float16 if supported, else stay in float32.<br>"
   ]
  },
  {
   "cell_type": "code",
   "execution_count": 3,
   "metadata": {},
   "outputs": [],
   "source": [
    "import torch\n",
    "import torch.nn as nn\n",
    "from torch.utils.data import DataLoader, TensorDataset\n",
    "\n",
    "device = \"cuda\" if torch.cuda.is_available() else \"mps\" if torch.backends.mps.is_available() else \"cpu\"\n"
   ]
  },
  {
   "cell_type": "code",
   "execution_count": 6,
   "metadata": {},
   "outputs": [
    {
     "name": "stdout",
     "output_type": "stream",
     "text": [
      "Shape: torch.Size([4, 5]), mean:-0.0661, std: 0.4202, max: 0.8064283132553101, min: -0.6876652240753174\n",
      "Reshaped tensor: tensor([[ 0.3608,  0.0820, -0.1155, -0.6794,  0.8064, -0.0160,  0.1082, -0.5279,\n",
      "         -0.2584, -0.3835],\n",
      "        [ 0.5943,  0.2178, -0.5763, -0.6877,  0.0161, -0.5694,  0.0517, -0.1388,\n",
      "          0.0446,  0.3496]], device='mps:0'), shape : torch.Size([2, 10])\n",
      "Original tensor :tensor([[ 0.3608,  0.0820, -0.1155, -0.6794,  0.8064],\n",
      "        [-0.0160,  0.1082, -0.5279, -0.2584, -0.3835],\n",
      "        [ 0.5943,  0.2178, -0.5763, -0.6877,  0.0161],\n",
      "        [-0.5694,  0.0517, -0.1388,  0.0446,  0.3496]], device='mps:0'), shape: torch.Size([4, 5])\n"
     ]
    }
   ],
   "source": [
    "\n",
    "inp = (torch.rand(size=(4,5))*(1+1) - 1).to(device)\n",
    "print(f\"Shape: {inp.shape}, mean:{torch.mean(inp):.4f}, std: {torch.std(inp):.4f}, max: {torch.max(inp)}, min: {torch.min(inp)}\")\n",
    "reshaped = torch.reshape(inp,(2,10))\n",
    "print(f\"Reshaped tensor: {reshaped}, shape : {(reshaped.shape)}\")\n",
    "original = torch.reshape(reshaped,(4,5))\n",
    "print(f\"Original tensor :{original}, shape: {original.shape}\")\n"
   ]
  },
  {
   "cell_type": "code",
   "execution_count": null,
   "metadata": {},
   "outputs": [],
   "source": []
  },
  {
   "cell_type": "code",
   "execution_count": null,
   "metadata": {},
   "outputs": [],
   "source": []
  }
 ],
 "metadata": {
  "kernelspec": {
   "display_name": "Python 3",
   "language": "python",
   "name": "python3"
  },
  "language_info": {
   "codemirror_mode": {
    "name": "ipython",
    "version": 3
   },
   "file_extension": ".py",
   "mimetype": "text/x-python",
   "name": "python",
   "nbconvert_exporter": "python",
   "pygments_lexer": "ipython3",
   "version": "3.11.8"
  }
 },
 "nbformat": 4,
 "nbformat_minor": 2
}
