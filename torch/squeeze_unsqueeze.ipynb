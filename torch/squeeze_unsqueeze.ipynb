{
 "cells": [
  {
   "cell_type": "markdown",
   "metadata": {},
   "source": [
    "Create a 2D tensor of shape (4, 5) filled with random numbers in [-1, 1] on GPU if available, else CPU. Then: <br>\n",
    "– Print its shape, mean, std, min, max.<br>\n",
    "– Reshape it to (2, 10), then back to (4, 5).<br>\n",
    "– Add a new dimension at axis 1 (so shape becomes (4, 1, 5)), then remove it back.<br>\n",
    "– Move it to float16 if supported, else stay in float32.<br>"
   ]
  },
  {
   "cell_type": "code",
   "execution_count": 2,
   "metadata": {},
   "outputs": [],
   "source": [
    "import torch\n",
    "import torch.nn as nn\n",
    "from torch.utils.data import DataLoader, TensorDataset\n",
    "\n",
    "device = \"cuda\" if torch.cuda.is_available() else \"mps\" if torch.backends.mps.is_available() else \"cpu\"\n"
   ]
  },
  {
   "cell_type": "code",
   "execution_count": 3,
   "metadata": {},
   "outputs": [
    {
     "name": "stdout",
     "output_type": "stream",
     "text": [
      "Shape: torch.Size([4, 5]), mean:-0.1100, std: 0.5061, max: 0.9412298202514648, min: -0.8940372467041016\n",
      "Reshaped tensor: tensor([[-0.0177,  0.6723, -0.3043, -0.2860,  0.9412,  0.7335, -0.2467, -0.7187,\n",
      "         -0.8940, -0.3687],\n",
      "        [-0.3647, -0.0973,  0.3052, -0.5253, -0.7995, -0.0340, -0.3185, -0.3904,\n",
      "          0.1974,  0.3165]], device='mps:0'), shape : torch.Size([2, 10])\n",
      "Original tensor :tensor([[-0.0177,  0.6723, -0.3043, -0.2860,  0.9412],\n",
      "        [ 0.7335, -0.2467, -0.7187, -0.8940, -0.3687],\n",
      "        [-0.3647, -0.0973,  0.3052, -0.5253, -0.7995],\n",
      "        [-0.0340, -0.3185, -0.3904,  0.1974,  0.3165]], device='mps:0'), shape: torch.Size([4, 5])\n"
     ]
    }
   ],
   "source": [
    "\n",
    "inp = (torch.rand(size=(4,5))*(1+1) - 1).to(device)\n",
    "print(f\"Shape: {inp.shape}, mean:{torch.mean(inp):.4f}, std: {torch.std(inp):.4f}, max: {torch.max(inp)}, min: {torch.min(inp)}\")\n",
    "reshaped = torch.reshape(inp,(2,10))\n",
    "print(f\"Reshaped tensor: {reshaped}, shape : {(reshaped.shape)}\")\n",
    "original = torch.reshape(reshaped,(4,5))\n",
    "print(f\"Original tensor :{original}, shape: {original.shape}\")\n"
   ]
  },
  {
   "cell_type": "markdown",
   "metadata": {},
   "source": [
    "## Squeezing and unsqueezing of tensors\n",
    "- manipulating a tensor's shape by adding or removing dimensions with a size of 1\n",
    "- They are essential for ensuring tensors have compatible shapes for operations like broadcasting, matrix multiplication, and feeding data into neural network layers.\n",
    "\n",
    "What they do\n",
    "- torch.unsqueeze(input, dim): This function adds a new dimension with a size of 1 at the specified position (dim).\n",
    "- torch.squeeze(input, dim=None): This function removes all dimensions with a size of 1. If a specific dim is provided, it removes the dimension at that position only if it has a size of 1. \n"
   ]
  },
  {
   "cell_type": "code",
   "execution_count": 8,
   "metadata": {},
   "outputs": [],
   "source": [
    "new_ = torch.unsqueeze(inp,dim=2)"
   ]
  },
  {
   "cell_type": "code",
   "execution_count": 9,
   "metadata": {},
   "outputs": [
    {
     "data": {
      "text/plain": [
       "torch.Size([4, 5, 1])"
      ]
     },
     "execution_count": 9,
     "metadata": {},
     "output_type": "execute_result"
    }
   ],
   "source": [
    "new_.shape"
   ]
  },
  {
   "cell_type": "code",
   "execution_count": null,
   "metadata": {},
   "outputs": [],
   "source": []
  }
 ],
 "metadata": {
  "kernelspec": {
   "display_name": "dl_proj",
   "language": "python",
   "name": "python3"
  },
  "language_info": {
   "codemirror_mode": {
    "name": "ipython",
    "version": 3
   },
   "file_extension": ".py",
   "mimetype": "text/x-python",
   "name": "python",
   "nbconvert_exporter": "python",
   "pygments_lexer": "ipython3",
   "version": "3.12.2"
  }
 },
 "nbformat": 4,
 "nbformat_minor": 2
}
