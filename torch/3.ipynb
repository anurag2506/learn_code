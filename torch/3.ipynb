{
 "cells": [
  {
   "cell_type": "code",
   "execution_count": 6,
   "id": "d01cd178",
   "metadata": {},
   "outputs": [
    {
     "name": "stdout",
     "output_type": "stream",
     "text": [
      "Mean: -0.1269, std: 0.5295, shape:torch.Size([10, 3]), dtype: torch.float32, device: mps:0\n",
      "tensor(-0.9499, device='mps:0') tensor(0.9427, device='mps:0')\n",
      "True\n"
     ]
    }
   ],
   "source": [
    "'''\n",
    "Use torch.rand mapped to [-1,1].\n",
    "\n",
    "Move to the correct device.\n",
    "\n",
    "Print mean, std, shape, device (4 decimals for mean/std).\n",
    "\n",
    "Add an assert that min/max are inside [-1,1].\n",
    "\n",
    "'''\n",
    "\n",
    "import torch\n",
    "device = \"mps\" if torch.backends.mps.is_available() else \"cuda\" if torch.cuda.is_available() else \"cpu\"\n",
    "a = torch.rand(size=(10,3),device=device)*2 - 1\n",
    "print(f\"Mean: {torch.mean(a):.4f}, std: {torch.std(a):.4f}, shape:{a.shape}, dtype: {a.\n",
    "      dtype}, device: {a.device}\")\n",
    "min_ =torch.min(a)\n",
    "max_ =torch.max(a)\n",
    "print(min_, max_)\n",
    "\n",
    "\n",
    "print(torch.allclose(min_, torch.full_like(min_,-1),rtol=0.1) & torch.allclose(max_, torch.full_like(max_,+1),rtol=0.1))\n",
    "\n"
   ]
  },
  {
   "cell_type": "markdown",
   "id": "2a52a5b6",
   "metadata": {},
   "source": [
    "### What is torch.allclose?\n",
    "\n",
    "$torch.allclose(a, b, rtol=1e-5, atol=1e-8, equal_nan=False)$\n",
    "\n",
    "It returns a single Python bool (True/False), telling you whether all elements of two tensors are “close enough” within given tolerances."
   ]
  },
  {
   "cell_type": "markdown",
   "id": "f7ecbbc3",
   "metadata": {},
   "source": [
    "\n"
   ]
  },
  {
   "cell_type": "code",
   "execution_count": null,
   "id": "ff5796f6",
   "metadata": {},
   "outputs": [],
   "source": []
  },
  {
   "cell_type": "code",
   "execution_count": null,
   "id": "bb8f64a8",
   "metadata": {},
   "outputs": [],
   "source": []
  },
  {
   "cell_type": "code",
   "execution_count": null,
   "id": "1e8e257a",
   "metadata": {},
   "outputs": [],
   "source": []
  }
 ],
 "metadata": {
  "kernelspec": {
   "display_name": "dl_proj",
   "language": "python",
   "name": "python3"
  },
  "language_info": {
   "codemirror_mode": {
    "name": "ipython",
    "version": 3
   },
   "file_extension": ".py",
   "mimetype": "text/x-python",
   "name": "python",
   "nbconvert_exporter": "python",
   "pygments_lexer": "ipython3",
   "version": "3.12.2"
  }
 },
 "nbformat": 4,
 "nbformat_minor": 5
}
