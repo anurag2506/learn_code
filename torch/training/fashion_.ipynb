{
 "cells": [
  {
   "cell_type": "code",
   "execution_count": 2,
   "metadata": {},
   "outputs": [],
   "source": [
    "import torch\n",
    "import torch.nn as nn\n",
    "from torch.utils.data import DataLoader, TensorDataset\n",
    "from torch.optim import Adam\n",
    "\n",
    "device = \"mps\" if torch.backends.mps.is_available() else \"cpu\""
   ]
  },
  {
   "cell_type": "code",
   "execution_count": null,
   "metadata": {},
   "outputs": [],
   "source": [
    "def split(X:TensorDataset, split_ratio:float, device:torch.device)-> tuple:\n",
    "    n = len(X)\n",
    "    train_size = int(split_ratio*n)\n",
    "    data = X.tensors\n",
    "    x = data[0] # Features\n",
    "    y = data[1] # Labels \n",
    "    train = TensorDataset(x[:train_size],y[:train_size])\n",
    "    test = TensorDataset(x[train_size:],y[train_size:])\n",
    "    return (train,test)"
   ]
  },
  {
   "cell_type": "code",
   "execution_count": 30,
   "metadata": {},
   "outputs": [
    {
     "ename": "AttributeError",
     "evalue": "'TensorDataset' object has no attribute 'to'",
     "output_type": "error",
     "traceback": [
      "\u001b[31m---------------------------------------------------------------------------\u001b[39m",
      "\u001b[31mAttributeError\u001b[39m                            Traceback (most recent call last)",
      "\u001b[36mCell\u001b[39m\u001b[36m \u001b[39m\u001b[32mIn[30]\u001b[39m\u001b[32m, line 9\u001b[39m\n\u001b[32m      6\u001b[39m y = torch.randint(\u001b[32m1\u001b[39m,\u001b[32m11\u001b[39m,size=(\u001b[32m1000\u001b[39m,)).to(device)\n\u001b[32m      8\u001b[39m data = TensorDataset(X,y)\n\u001b[32m----> \u001b[39m\u001b[32m9\u001b[39m train,test = \u001b[43msplit\u001b[49m\u001b[43m(\u001b[49m\u001b[43mdata\u001b[49m\u001b[43m,\u001b[49m\u001b[32;43m0.8\u001b[39;49m\u001b[43m,\u001b[49m\u001b[43mdevice\u001b[49m\u001b[43m)\u001b[49m\n",
      "\u001b[36mCell\u001b[39m\u001b[36m \u001b[39m\u001b[32mIn[28]\u001b[39m\u001b[32m, line 7\u001b[39m, in \u001b[36msplit\u001b[39m\u001b[34m(X, split_ratio, device)\u001b[39m\n\u001b[32m      5\u001b[39m x = data[\u001b[32m0\u001b[39m] \u001b[38;5;66;03m# Features\u001b[39;00m\n\u001b[32m      6\u001b[39m y = data[\u001b[32m1\u001b[39m] \u001b[38;5;66;03m# Labels \u001b[39;00m\n\u001b[32m----> \u001b[39m\u001b[32m7\u001b[39m train = \u001b[43mTensorDataset\u001b[49m\u001b[43m(\u001b[49m\u001b[43mx\u001b[49m\u001b[43m[\u001b[49m\u001b[43m:\u001b[49m\u001b[43mtrain_size\u001b[49m\u001b[43m]\u001b[49m\u001b[43m,\u001b[49m\u001b[43my\u001b[49m\u001b[43m[\u001b[49m\u001b[43m:\u001b[49m\u001b[43mtrain_size\u001b[49m\u001b[43m]\u001b[49m\u001b[43m)\u001b[49m\u001b[43m.\u001b[49m\u001b[43mto\u001b[49m(device)\n\u001b[32m      8\u001b[39m test = TensorDataset(x[train_size:],y[train_size:]).to(device)\n\u001b[32m      9\u001b[39m \u001b[38;5;28;01mreturn\u001b[39;00m (train,test)\n",
      "\u001b[31mAttributeError\u001b[39m: 'TensorDataset' object has no attribute 'to'"
     ]
    }
   ],
   "source": [
    "# Creating the dataset\n",
    "\n",
    " # Reproducability\n",
    "torch.manual_seed(23)\n",
    "X = torch.rand((1000,3,228,228)).to(device)\n",
    "y = torch.randint(1,11,size=(1000,)).to(device)\n",
    "\n",
    "data = TensorDataset(X,y)\n",
    "train,test = split(data,0.8,device)"
   ]
  },
  {
   "cell_type": "code",
   "execution_count": null,
   "metadata": {},
   "outputs": [],
   "source": [
    "# Transforms"
   ]
  },
  {
   "cell_type": "code",
   "execution_count": null,
   "metadata": {},
   "outputs": [],
   "source": [
    "# Dataloader "
   ]
  },
  {
   "cell_type": "code",
   "execution_count": null,
   "metadata": {},
   "outputs": [],
   "source": [
    "# Training"
   ]
  }
 ],
 "metadata": {
  "kernelspec": {
   "display_name": "Python 3",
   "language": "python",
   "name": "python3"
  },
  "language_info": {
   "codemirror_mode": {
    "name": "ipython",
    "version": 3
   },
   "file_extension": ".py",
   "mimetype": "text/x-python",
   "name": "python",
   "nbconvert_exporter": "python",
   "pygments_lexer": "ipython3",
   "version": "3.11.8"
  }
 },
 "nbformat": 4,
 "nbformat_minor": 2
}
