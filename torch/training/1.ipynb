{
 "cells": [
  {
   "cell_type": "code",
   "execution_count": 4,
   "id": "ff121ffd",
   "metadata": {},
   "outputs": [],
   "source": [
    "import torch\n",
    "import torchvision\n",
    "import torch.nn as nn\n",
    "from torch.optim import SGD"
   ]
  },
  {
   "cell_type": "code",
   "execution_count": 13,
   "id": "7acacead",
   "metadata": {},
   "outputs": [],
   "source": [
    "def training():\n",
    "    inp = torch.rand(size = (20,5))\n",
    "    tar = torch.rand(size = (20,1))\n",
    "    epochs = 10\n",
    "    model = nn.Sequential(nn.Linear(5,1))\n",
    "    optimizer = torch.optim.SGD(model.parameters(), lr=1e-1, momentum=0.9)\n",
    "    loss = nn.MSELoss()\n",
    "    \n",
    "    tot_loss = 0\n",
    "    for i,epoch in enumerate(range(epochs)):\n",
    "        optimizer.zero_grad()\n",
    "        output = model(inp)\n",
    "        avg_loss = loss(output,tar)\n",
    "        avg_loss.backward()\n",
    "        optimizer.step()\n",
    "        \n",
    "        print(f\"Loss fo epoch-{i+1} : {avg_loss.item()}\")\n",
    "    \n",
    "    "
   ]
  },
  {
   "cell_type": "code",
   "execution_count": 14,
   "id": "487d4ca1",
   "metadata": {},
   "outputs": [
    {
     "name": "stdout",
     "output_type": "stream",
     "text": [
      "Loss fo epoch-1 : 0.39666739106178284\n",
      "Loss fo epoch-2 : 0.2086714804172516\n",
      "Loss fo epoch-3 : 0.11540093272924423\n",
      "Loss fo epoch-4 : 0.21001505851745605\n",
      "Loss fo epoch-5 : 0.2982880771160126\n",
      "Loss fo epoch-6 : 0.23294398188591003\n",
      "Loss fo epoch-7 : 0.11690869182348251\n",
      "Loss fo epoch-8 : 0.10788432508707047\n",
      "Loss fo epoch-9 : 0.181176096200943\n",
      "Loss fo epoch-10 : 0.1999688744544983\n"
     ]
    }
   ],
   "source": [
    "training()"
   ]
  },
  {
   "cell_type": "code",
   "execution_count": null,
   "id": "927da7f4",
   "metadata": {},
   "outputs": [],
   "source": []
  },
  {
   "cell_type": "code",
   "execution_count": null,
   "id": "f4e339d3",
   "metadata": {},
   "outputs": [],
   "source": []
  }
 ],
 "metadata": {
  "kernelspec": {
   "display_name": "dl_proj",
   "language": "python",
   "name": "python3"
  },
  "language_info": {
   "codemirror_mode": {
    "name": "ipython",
    "version": 3
   },
   "file_extension": ".py",
   "mimetype": "text/x-python",
   "name": "python",
   "nbconvert_exporter": "python",
   "pygments_lexer": "ipython3",
   "version": "3.12.2"
  }
 },
 "nbformat": 4,
 "nbformat_minor": 5
}
