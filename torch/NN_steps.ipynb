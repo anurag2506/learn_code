{
 "cells": [
  {
   "cell_type": "code",
   "execution_count": 3,
   "id": "353a9389",
   "metadata": {},
   "outputs": [],
   "source": [
    "import torch\n",
    "import torch.nn as nn\n",
    "from torch.optim import SGD\n",
    "device = \"cuda\" if torch.cuda.is_available() else \"mps\" if torch.backends.mps.is_available() else \"cpu\"\n"
   ]
  },
  {
   "cell_type": "code",
   "execution_count": null,
   "id": "41689475",
   "metadata": {},
   "outputs": [
    {
     "data": {
      "text/plain": [
       "3072.0"
      ]
     },
     "execution_count": 9,
     "metadata": {},
     "output_type": "execute_result"
    }
   ],
   "source": []
  },
  {
   "cell_type": "code",
   "execution_count": null,
   "id": "a4c7c76b",
   "metadata": {},
   "outputs": [
    {
     "data": {
      "text/plain": [
       "torch.Size([256, 3])"
      ]
     },
     "execution_count": 8,
     "metadata": {},
     "output_type": "execute_result"
    }
   ],
   "source": [
    "'''Putting it all together\n",
    "Create a simple linear model and perform one optimization step.\n",
    "Create a random input tensor x and a random target tensor y.\n",
    "Create weight and bias tensors and manually compute the prediction y_pred.\n",
    "Compute the Mean Squared Error loss. \n",
    "Calculate the gradients using loss.backward() and update the weights manually based on a learning rate.\n",
    "'''\n",
    "\n",
    "X = torch.rand((64,3.32,32)).to(device=device)\n",
    "y = torch.randint(0,2, (64,)).to(device=device)\n",
    "data = torch.utils.data.TensorDataset(X,y)\n",
    "\n",
    "model = nn.Sequential(\n",
    "    nn.Linear(3072, 256),\n",
    "    nn.Linear(256,64),\n",
    "    nn.Linear(64,2)\n",
    ").to(device)\n",
    "\n",
    "optim = SGD(model.parameters(), lr=1e-3)\n",
    "optim.zero_grad()\n",
    "y_pred = model(X) # forward\n",
    "loss = nn.MSELoss(y_pred,y) # loss\n",
    "loss.backward()\n",
    "optim.step()\n",
    "print(f\"Loss for the step: {loss}\")\n",
    "print(f\"Gradients  : {loss}\")\n",
    "\n"
   ]
  },
  {
   "cell_type": "code",
   "execution_count": null,
   "id": "4a4faa7d",
   "metadata": {},
   "outputs": [],
   "source": [
    "\n",
    "'''\n",
    "Normalize a batch of data.\n",
    "Create a tensor representing a batch of 10 samples, each with 5 features.\n",
    "Normalize each feature column to have a mean of 0 and a standard deviation of 1, without using nn.BatchNorm1d. \n",
    "Use vectorized operations.\n",
    "'''\n"
   ]
  },
  {
   "cell_type": "code",
   "execution_count": null,
   "id": "0909bd81",
   "metadata": {},
   "outputs": [],
   "source": [
    "\n",
    "'''\n",
    "Build a custom tensor based on complex logic.\n",
    "Create a tensor A of shape (100, 100). Use a combination of masking and reduction operations to create a new 1D tensor B. \n",
    "For each row in A, if the mean is greater than 0.5, the corresponding element in B should be the sum of that row. \n",
    "Otherwise, it should be the maximum value of that row.\n",
    "'''\n"
   ]
  },
  {
   "cell_type": "code",
   "execution_count": null,
   "id": "c88e24c4",
   "metadata": {},
   "outputs": [],
   "source": [
    "\n",
    "'''\n",
    "Simulate a step in a recurrent network.\n",
    "Create an input sequence tensor of shape (batch_size, sequence_length, feature_size). \n",
    "Create a hidden state tensor of shape (batch_size, feature_size). \n",
    "Compute the next hidden state by matrix-multiplying the current input vector (input[:, t, :]) with a weight matrix and adding a bias.\n",
    "Use a Python loop to simulate one step of a simplified RNN.\n",
    "'''\n",
    "\n"
   ]
  },
  {
   "cell_type": "code",
   "execution_count": null,
   "id": "c50fa6e0",
   "metadata": {},
   "outputs": [],
   "source": [
    "'''\n",
    "Find and replace outliers using clamping and masking.\n",
    "Create a tensor data of shape (8, 8) with random values.\n",
    "First, calculate the mean and standard deviation of data.\n",
    "Define an \"outlier\" as any value more than two standard deviations away from the mean. \n",
    "Create a boolean mask to identify these outliers. \n",
    "Then, use a combination of clamping or torch.where to replace the outliers with the mean value.\n",
    "'''"
   ]
  }
 ],
 "metadata": {
  "kernelspec": {
   "display_name": "dl_proj",
   "language": "python",
   "name": "python3"
  },
  "language_info": {
   "codemirror_mode": {
    "name": "ipython",
    "version": 3
   },
   "file_extension": ".py",
   "mimetype": "text/x-python",
   "name": "python",
   "nbconvert_exporter": "python",
   "pygments_lexer": "ipython3",
   "version": "3.12.2"
  }
 },
 "nbformat": 4,
 "nbformat_minor": 5
}
