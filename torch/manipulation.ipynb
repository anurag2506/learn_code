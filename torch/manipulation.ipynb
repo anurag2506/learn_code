{
 "cells": [
  {
   "cell_type": "code",
   "execution_count": 1,
   "id": "7744cb0e",
   "metadata": {},
   "outputs": [],
   "source": [
    "import torch\n",
    "import numpy as np"
   ]
  },
  {
   "cell_type": "code",
   "execution_count": null,
   "id": "789e7a57",
   "metadata": {},
   "outputs": [],
   "source": [
    "'''\n",
    "Reshaping and viewing a tensor.\n",
    "Create a random tensor of shape (2, 3, 4). Reshape it to a shape of (4, 6). \n",
    "Then, create a view of the original tensor with a shape of (8, 3). \n",
    "Explain the key difference between using reshape and view in this context.\n",
    "'''\n",
    "a = torch.rand(size=(2,3,4)).reshape((4,6))\n",
    "b = torch\n",
    "\n"
   ]
  },
  {
   "cell_type": "code",
   "execution_count": null,
   "id": "2f7a20c3",
   "metadata": {},
   "outputs": [],
   "source": [
    "'''\n",
    "Concatenation and stacking tensors.\n",
    "Create three random tensors, each of shape (2, 4). Concatenate them along the second dimension (dim=1). \n",
    "Then, stack them along a new dimension.\n",
    "Print the shape of the resulting tensors and explain the difference between torch.cat and torch.stack.\n",
    "'''\n",
    "\n",
    "\n"
   ]
  },
  {
   "cell_type": "code",
   "execution_count": null,
   "id": "de122368",
   "metadata": {},
   "outputs": [],
   "source": [
    "'''\n",
    "Squeezing and unsqueezing dimensions.\n",
    "Create a random tensor with shape (1, 20, 1, 1, 5). \n",
    "Squeeze all the dimensions with size 1. \n",
    "Then, unsqueeze a dimension of size 1 at index 1.\n",
    "Print the shape at each step.\n",
    "'''\n",
    "\n"
   ]
  },
  {
   "cell_type": "code",
   "execution_count": null,
   "id": "3875db8e",
   "metadata": {},
   "outputs": [],
   "source": [
    "'''\n",
    "Transposing and permuting a tensor.\n",
    "Create a random tensor of shape (4, 5, 6). Use permute to swap dimensions 0 and 2.\n",
    "Then, use .T to transpose the first two dimensions of a 2D slice of the original tensor.\n",
    "'''"
   ]
  }
 ],
 "metadata": {
  "kernelspec": {
   "display_name": "dl_proj",
   "language": "python",
   "name": "python3"
  },
  "language_info": {
   "codemirror_mode": {
    "name": "ipython",
    "version": 3
   },
   "file_extension": ".py",
   "mimetype": "text/x-python",
   "name": "python",
   "nbconvert_exporter": "python",
   "pygments_lexer": "ipython3",
   "version": "3.12.2"
  }
 },
 "nbformat": 4,
 "nbformat_minor": 5
}
