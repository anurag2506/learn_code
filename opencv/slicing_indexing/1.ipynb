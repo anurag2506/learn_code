{
 "cells": [
  {
   "cell_type": "markdown",
   "metadata": {},
   "source": [
    "- Ditch the safety of cv2.circle. Draw your own circle using raw NumPy indexing or loops.<br>\n",
    "\n",
    "- Use a tiny 10×10 image so you can see pixel values directly. <br>\n",
    "\n",
    "- Print slices of the array to confirm colors."
   ]
  },
  {
   "cell_type": "markdown",
   "metadata": {},
   "source": [
    "#### Can you create a 100×100 black image from scratch with NumPy, manually set the center 10×10 square region to pure red (BGR: 0,0,255), and save it as manual_red.png?"
   ]
  },
  {
   "cell_type": "code",
   "execution_count": 1,
   "metadata": {},
   "outputs": [],
   "source": [
    "import cv2 as cv\n",
    "import numpy as np"
   ]
  },
  {
   "cell_type": "code",
   "execution_count": 2,
   "metadata": {},
   "outputs": [],
   "source": [
    "img = np.zeros((100,100,3),dtype=float)\n",
    "# img[:,:,2] = 125"
   ]
  },
  {
   "cell_type": "code",
   "execution_count": 22,
   "metadata": {},
   "outputs": [],
   "source": [
    "cv.imshow(\"img\",img)\n",
    "cv.waitKey(0)\n",
    "cv.destroyAllWindows()"
   ]
  },
  {
   "cell_type": "code",
   "execution_count": 3,
   "metadata": {},
   "outputs": [],
   "source": [
    "centre = (50,50)\n",
    "window = 5\n",
    "img_copy = img\n",
    "# for i in range(centre[0]-window, centre[0]+window):\n",
    "#     for j in range(centre[0]-window, centre[0]+window):\n",
    "#         img_copy[i][j] = [0,0,255]\n",
    "\n",
    "x_c,y_c = centre\n",
    "img_copy[x_c-window:x_c+window, y_c-window:y_c+window] = [0,255,0]"
   ]
  },
  {
   "cell_type": "code",
   "execution_count": 6,
   "metadata": {},
   "outputs": [
    {
     "data": {
      "text/plain": [
       "True"
      ]
     },
     "execution_count": 6,
     "metadata": {},
     "output_type": "execute_result"
    }
   ],
   "source": [
    "# Save image as manual_red.png\n",
    "cv.imwrite(\"manual_green.png\",img_copy)"
   ]
  },
  {
   "cell_type": "code",
   "execution_count": 5,
   "metadata": {},
   "outputs": [
    {
     "name": "stderr",
     "output_type": "stream",
     "text": [
      "2025-09-28 12:52:56.504 python[36097:4645791] +[IMKClient subclass]: chose IMKClient_Modern\n",
      "2025-09-28 12:52:56.504 python[36097:4645791] +[IMKInputSession subclass]: chose IMKInputSession_Modern\n"
     ]
    }
   ],
   "source": [
    "cv.imshow(\"img\",img_copy)\n",
    "cv.waitKey(0)\n",
    "cv.destroyAllWindows()"
   ]
  },
  {
   "cell_type": "markdown",
   "metadata": {},
   "source": [
    "## Indexing: \n",
    "- You are given a 500x500 color image as a NumPy array. Your task is to modify the image to create a target image that meets the following conditions, using only a single, complex NumPy indexing operation (no loops, no multiple separate assignments):<br>\n",
    "\n",
    "Set the top-left quadrant of the image to solid blue.<br>\n",
    "Set the bottom-right quadrant of the image to solid red.<br>\n",
    "Set the main diagonal (where row == col) of the image to solid yellow. This diagonal should pass through all three color regions.<br>\n",
    "Set the anti-diagonal (where row + col == 499) of the image to solid cyan. This diagonal should also pass through all color regions.<br>\n",
    "All other pixels that fall within the top-left or bottom-right quadrant and are not on either diagonal should remain their original color (which is black in this example).<br>\n",
    "The top-right and bottom-left quadrants should be entirely unaffected."
   ]
  },
  {
   "cell_type": "code",
   "execution_count": 7,
   "metadata": {},
   "outputs": [],
   "source": [
    "image = np.zeros((500,500,3),dtype=float)"
   ]
  },
  {
   "cell_type": "code",
   "execution_count": null,
   "metadata": {},
   "outputs": [],
   "source": [
    "center = (250,250)\n",
    "x,y = center\n",
    "\n",
    "image[0:x,0:y] = [255,0,0]\n",
    "image[x:500,y:500] = [0,0,255]\n",
    "\n",
    "for i, j in zip(range(500),range(500)):\n",
    "    if i == j:\n",
    "        image[i][j] = [0,255,255]\n",
    "    if i+j == 499:\n",
    "        image[i][j] = [255,255,0]\n",
    "    \n"
   ]
  },
  {
   "cell_type": "code",
   "execution_count": 16,
   "metadata": {},
   "outputs": [
    {
     "data": {
      "text/plain": [
       "array([[[  0., 255., 255.],\n",
       "        [255.,   0.,   0.],\n",
       "        [255.,   0.,   0.],\n",
       "        ...,\n",
       "        [  0.,   0.,   0.],\n",
       "        [  0.,   0.,   0.],\n",
       "        [  0.,   0.,   0.]],\n",
       "\n",
       "       [[255.,   0.,   0.],\n",
       "        [  0., 255., 255.],\n",
       "        [255.,   0.,   0.],\n",
       "        ...,\n",
       "        [  0.,   0.,   0.],\n",
       "        [  0.,   0.,   0.],\n",
       "        [  0.,   0.,   0.]],\n",
       "\n",
       "       [[255.,   0.,   0.],\n",
       "        [255.,   0.,   0.],\n",
       "        [  0., 255., 255.],\n",
       "        ...,\n",
       "        [  0.,   0.,   0.],\n",
       "        [  0.,   0.,   0.],\n",
       "        [  0.,   0.,   0.]],\n",
       "\n",
       "       ...,\n",
       "\n",
       "       [[  0.,   0.,   0.],\n",
       "        [  0.,   0.,   0.],\n",
       "        [  0.,   0.,   0.],\n",
       "        ...,\n",
       "        [  0., 255., 255.],\n",
       "        [  0.,   0., 255.],\n",
       "        [  0.,   0., 255.]],\n",
       "\n",
       "       [[  0.,   0.,   0.],\n",
       "        [  0.,   0.,   0.],\n",
       "        [  0.,   0.,   0.],\n",
       "        ...,\n",
       "        [  0.,   0., 255.],\n",
       "        [  0., 255., 255.],\n",
       "        [  0.,   0., 255.]],\n",
       "\n",
       "       [[  0.,   0.,   0.],\n",
       "        [  0.,   0.,   0.],\n",
       "        [  0.,   0.,   0.],\n",
       "        ...,\n",
       "        [  0.,   0., 255.],\n",
       "        [  0.,   0., 255.],\n",
       "        [  0., 255., 255.]]], shape=(500, 500, 3))"
      ]
     },
     "execution_count": 16,
     "metadata": {},
     "output_type": "execute_result"
    }
   ],
   "source": [
    "image"
   ]
  },
  {
   "cell_type": "code",
   "execution_count": 17,
   "metadata": {},
   "outputs": [],
   "source": [
    "cv.imshow(\"image\",image)\n",
    "cv.waitKey(0)\n",
    "cv.destroyAllWindows()"
   ]
  },
  {
   "cell_type": "code",
   "execution_count": null,
   "metadata": {},
   "outputs": [],
   "source": []
  }
 ],
 "metadata": {
  "kernelspec": {
   "display_name": "Python 3",
   "language": "python",
   "name": "python3"
  },
  "language_info": {
   "codemirror_mode": {
    "name": "ipython",
    "version": 3
   },
   "file_extension": ".py",
   "mimetype": "text/x-python",
   "name": "python",
   "nbconvert_exporter": "python",
   "pygments_lexer": "ipython3",
   "version": "3.11.8"
  }
 },
 "nbformat": 4,
 "nbformat_minor": 2
}
