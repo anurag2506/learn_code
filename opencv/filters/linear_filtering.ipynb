{
 "cells": [
  {
   "cell_type": "markdown",
   "id": "7702a8fb",
   "metadata": {},
   "source": [
    "Linear Spatial Filtering:\n",
    "- These are convolution-based and modify pixels based on their neighbours\n",
    "- Can be classified as Blur, gaussian blur, sharpening"
   ]
  },
  {
   "cell_type": "code",
   "execution_count": null,
   "id": "081ad29d",
   "metadata": {},
   "outputs": [],
   "source": []
  }
 ],
 "metadata": {
  "language_info": {
   "name": "python"
  }
 },
 "nbformat": 4,
 "nbformat_minor": 5
}
